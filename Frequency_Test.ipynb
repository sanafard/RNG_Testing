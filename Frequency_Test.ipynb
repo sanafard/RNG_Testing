{
 "cells": [
  {
   "cell_type": "code",
   "execution_count": null,
   "metadata": {},
   "outputs": [],
   "source": [
    "import pandas as pd\n",
    "import numpy as np\n",
    "import matplotlib.pyplot as plt\n",
    "import seaborn as sns\n",
    "import math\n",
    "from collections import Counter\n",
    "import csv\n",
    "import os\n",
    "from scipy.stats import chi2_contingency\n",
    "import scipy.stats as stats"
   ]
  },
  {
   "cell_type": "markdown",
   "metadata": {},
   "source": [
    "## Cards"
   ]
  },
  {
   "cell_type": "code",
   "execution_count": null,
   "metadata": {},
   "outputs": [
    {
     "data": {
      "text/plain": [
       "Saved card frequencies for sample size 1000 to card_frequencies_1000.csv\n",
       "Saved card frequencies for sample size 2000 to card_frequencies_2000.csv\n",
       "Saved card frequencies for sample size 3000 to card_frequencies_3000.csv\n",
       "Saved card frequencies for sample size 4000 to card_frequencies_4000.csv\n",
       "Saved card frequencies for sample size 5000 to card_frequencies_5000.csv\n",
       "Saved card frequencies for sample size 6000 to card_frequencies_6000.csv\n",
       "Saved card frequencies for sample size 7000 to card_frequencies_7000.csv\n",
       "Saved card frequencies for sample size 8000 to card_frequencies_8000.csv\n",
       "Saved card frequencies for sample size 9000 to card_frequencies_9000.csv\n",
       "Saved card frequencies for sample size 10000 to card_frequencies_10000.csv\n"
      ]
     },
     "metadata": {},
     "output_type": "display_data"
    }
   ],
   "source": [
    "data_file=r\"/Users/macbookpro/Documents/RNG_testing/df_Small.csv\"\n",
    "start_row=0\n",
    "\"\"\"increments = [1000, 2000, 3000, 4000, 5000, 6000, 7000, 8000, 9000, 10000,\n",
    "        20000, 30000, 40000, 50000, 60000, 70000, 80000, 90000, 100000,\n",
    "        200000, 300000, 400000, 500000, 600000, 700000, 800000, 900000, 1000000,\n",
    "        2000000, 3000000, 4000000, 5000000, 6000000, 7000000, 8000000, 9000000, 10000000,\n",
    "        20000000, 30000000, 40000000, 50000000, 60000000, 70000000, 80000000, 90000000, 100000000]\"\"\"\n",
    "\n",
    "chi2_results_list = []\n",
    "increments=[1000,2000,3000,4000,5000,6000,7000,8000,9000,10000]\n",
    "for size in increments:\n",
    "    chunk= pd.read_csv(data_file , skiprows=start_row, nrows= size)\n",
    "    df_card=chunk[[\"card\"]]\n",
    "    # Split the 'card' column into separate columns\n",
    "    split_cards = df_card['card'].str.split(',', expand=True)\n",
    "    #value_counts\n",
    "    melted = split_cards.melt(var_name='position', value_name='card')\n",
    "    melted=melted.groupby(['card', 'position'] , sort=True).size().unstack()\n",
    "    \n",
    "    # Save the resulting DataFrame to a CSV file\n",
    "    output_file = f\"card_frequencies_{size}.csv\"  \n",
    "    melted.to_csv(output_file)\n",
    "    print(f\"Saved card frequencies for sample size {size} to {output_file}\")\n",
    "\n",
    "     # Calculate the Chi-square test for the contingency table\n",
    "    chi2_stat, p_value, dof, expected = chi2_contingency(melted)\n",
    "    \n",
    "    # Append the results to the list\n",
    "    chi2_results_list.append({ 'Sample Size': size, 'Chi-square Statistic': chi2_stat , 'P-value': p_value } ) \n",
    "\n",
    "    # Print the results\n",
    "    #print(f\"Chi-square statistic for sample size {size}: {chi2_stat}\")\n",
    "    #print(f\"P-value for sample size {size}: {p_value}\")\n",
    "\n",
    "\n",
    "# Convert the results list to a DataFrame\n",
    "chi2_results_cards = pd.DataFrame(chi2_results_list)\n",
    "\n",
    "# Save all Chi-square results to a single CSV file\n",
    "chi2_results_cards.to_csv(\"chi2_results_cards.csv\", index=False)\n"
   ]
  },
  {
   "cell_type": "markdown",
   "metadata": {},
   "source": [
    "## Dice"
   ]
  },
  {
   "cell_type": "code",
   "execution_count": null,
   "metadata": {},
   "outputs": [
    {
     "data": {
      "text/plain": [
       "Saved Dice frequencies for sample size 1000 to Dice_frequencies_1000.csv\n",
       "Saved Dice frequencies for sample size 2000 to Dice_frequencies_2000.csv\n",
       "Saved Dice frequencies for sample size 3000 to Dice_frequencies_3000.csv\n",
       "Saved Dice frequencies for sample size 4000 to Dice_frequencies_4000.csv\n",
       "Saved Dice frequencies for sample size 5000 to Dice_frequencies_5000.csv\n",
       "Saved Dice frequencies for sample size 6000 to Dice_frequencies_6000.csv\n",
       "Saved Dice frequencies for sample size 7000 to Dice_frequencies_7000.csv\n",
       "Saved Dice frequencies for sample size 8000 to Dice_frequencies_8000.csv\n",
       "Saved Dice frequencies for sample size 9000 to Dice_frequencies_9000.csv\n",
       "Saved Dice frequencies for sample size 10000 to Dice_frequencies_10000.csv\n"
      ]
     },
     "metadata": {},
     "output_type": "display_data"
    }
   ],
   "source": [
    "data_file=r\"/Users/macbookpro/Documents/RNG_testing/df_Small.csv\"\n",
    "increments=[1000,2000,3000,4000,5000,6000,7000,8000,9000,10000]\n",
    "\n",
    "chi2_results_list=[]\n",
    "start_row=0\n",
    "\n",
    "for size in increments:\n",
    "    chunk= pd.read_csv(data_file , skiprows=start_row, nrows= size)\n",
    "    df_Dice=chunk[[\"dice\"]]\n",
    "    # Calculate value counts\n",
    "    value_counts = df_Dice.value_counts() \n",
    "    # Convert the Series to a DataFrame\n",
    "    df_value_counts = value_counts.reset_index()\n",
    "    # Rename the columns\n",
    "    df_value_counts.columns = ['Outcome', 'Frequency']\n",
    "\n",
    "    #Save the resulting DataFrame to a CSV file\n",
    "    output_file = f\"Dice_frequencies_{size}.csv\" \n",
    "    df_value_counts.to_csv(output_file)\n",
    "    print(f\"Saved Dice frequencies for sample size {size} to {output_file}\")\n",
    "\n",
    "    # Prepare the observed and expected frequencies for the Chi-Square test\n",
    "    observed_freq = df_value_counts['Frequency']\n",
    "    expected_freq= ( observed_freq.sum() / len(observed_freq) ) \n",
    "    expected_frequencies = [expected_freq] * len(observed_freq) \n",
    "    \n",
    "\n",
    "    chi2_stat, p_value = stats.chisquare(observed_freq, expected_frequencies)   \n",
    "    \n",
    "    # Append the results to the list\n",
    "    chi2_results_list.append({ 'Sample Size': size, 'Chi-square Statistic': chi2_stat , 'P-value': p_value } ) \n",
    "\n",
    "# Convert the results list to a DataFrame\n",
    "chi2_results_Dice = pd.DataFrame(chi2_results_list)\n",
    "\n",
    "# Save all Chi-square results to a single CSV file\n",
    "chi2_results_Dice.to_csv(\"chi2_results_Dice.csv\", index=False)"
   ]
  },
  {
   "cell_type": "markdown",
   "metadata": {},
   "source": [
    "## Lotto"
   ]
  },
  {
   "cell_type": "code",
   "execution_count": null,
   "metadata": {},
   "outputs": [
    {
     "data": {
      "text/plain": [
       "Saved lotto frequencies for sample size 1000 to lotto_frequencies_1000.csv\n",
       "Saved lotto frequencies for sample size 2000 to lotto_frequencies_2000.csv\n",
       "Saved lotto frequencies for sample size 3000 to lotto_frequencies_3000.csv\n",
       "Saved lotto frequencies for sample size 4000 to lotto_frequencies_4000.csv\n",
       "Saved lotto frequencies for sample size 5000 to lotto_frequencies_5000.csv\n",
       "Saved lotto frequencies for sample size 6000 to lotto_frequencies_6000.csv\n",
       "Saved lotto frequencies for sample size 7000 to lotto_frequencies_7000.csv\n",
       "Saved lotto frequencies for sample size 8000 to lotto_frequencies_8000.csv\n",
       "Saved lotto frequencies for sample size 9000 to lotto_frequencies_9000.csv\n",
       "Saved lotto frequencies for sample size 10000 to lotto_frequencies_10000.csv\n"
      ]
     },
     "metadata": {},
     "output_type": "display_data"
    }
   ],
   "source": [
    "\n",
    "data_file=r\"/Users/macbookpro/Documents/RNG_testing/df_Small.csv\"\n",
    "increments=[1000,2000,3000,4000,5000,6000,7000,8000,9000,10000]\n",
    "\n",
    "chi2_results_list=[]\n",
    "start_row=0\n",
    "\n",
    "for size in increments:\n",
    "    chunk= pd.read_csv(data_file , skiprows=start_row, nrows= size)\n",
    "    df_lotto=chunk[['lotoo']]\n",
    "    df_lotto= df_lotto['lotoo'].str.split(',', expand=True)\n",
    "    #creating Frequency matrix\n",
    "    df_lotto=df_lotto.astype(int)\n",
    "    melted = df_lotto.melt(var_name='position', value_name='Number')\n",
    "    melted=melted.groupby(['Number', 'position'] , sort=True).size().reset_index(name='Count')\n",
    "    frequency_matrix = melted.pivot(index='Number', columns='position', values='Count')\n",
    "    \n",
    "    # Save the resulting DataFrame to a CSV file\n",
    "    output_file = f\"lotto_frequencies_{size}.csv\"  \n",
    "    frequency_matrix.to_csv(output_file)\n",
    "    print(f\"Saved lotto frequencies for sample size {size} to {output_file}\")\n",
    "\n",
    "    # Calculate the Chi-square test for the contingency table\n",
    "    chi2_stat, p_value, _, _ = chi2_contingency(frequency_matrix)\n",
    "    \n",
    "    # Append the results to the list\n",
    "    chi2_results_list.append({ 'Sample Size': size, 'Chi-square Statistic': chi2_stat , 'P-value': p_value } ) \n",
    "\n",
    "\n",
    "# Convert the results list to a DataFrame\n",
    "chi2_results_lotto = pd.DataFrame(chi2_results_list)\n",
    "\n",
    "# Save all Chi-square results to a single CSV file\n",
    "chi2_results_lotto.to_csv(\"chi2_results_lotto.csv\", index=False)"
   ]
  },
  {
   "cell_type": "code",
   "execution_count": null,
   "metadata": {},
   "outputs": [],
   "source": []
  }
 ],
 "metadata": {
  "language_info": {
   "name": "python"
  }
 },
 "nbformat": 4,
 "nbformat_minor": 2
}
